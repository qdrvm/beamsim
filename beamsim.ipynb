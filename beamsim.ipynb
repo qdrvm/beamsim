{
 "cells": [
  {
   "cell_type": "code",
   "execution_count": null,
   "id": "36373079",
   "metadata": {},
   "outputs": [],
   "source": [
    "%load_ext autoreload\n",
    "%autoreload 2\n",
    "\n",
    "from matplotlib import pyplot as plt\n",
    "import numpy as np\n",
    "import beamsim"
   ]
  },
  {
   "cell_type": "code",
   "execution_count": null,
   "id": "21602b5e",
   "metadata": {},
   "outputs": [],
   "source": [
    "def plot1(items, ax: plt.Axes = None):\n",
    "    _, _, validator_count, snark2_threshold = beamsim.filter_report(items, \"info\")[0]\n",
    "    snark1_sent = beamsim.filter_report(items, \"snark1_sent\")\n",
    "    snark1_received = beamsim.filter_report(items, \"snark1_received\")\n",
    "    snark2_sent = beamsim.filter_report(items, \"snark2_sent\")\n",
    "\n",
    "    show = ax is None\n",
    "    if ax is None:\n",
    "        ax = plt.subplot()\n",
    "    ax.step(\n",
    "        [0, *beamsim.time_axis(snark1_sent)],\n",
    "        [0, *np.cumsum([x[2] for x in snark1_sent])],\n",
    "        where=\"post\",\n",
    "        color=\"C0\",\n",
    "    )\n",
    "    ax.step(\n",
    "        [0, *beamsim.time_axis(snark1_received)],\n",
    "        [0, *[x[2] for x in snark1_received]],\n",
    "        where=\"post\",\n",
    "        color=\"C1\",\n",
    "    )\n",
    "    ax.axhline(validator_count, linestyle=\"--\", color=\"C0\")\n",
    "    ax.axhline(snark2_threshold, linestyle=\"--\", color=\"C1\")\n",
    "    if snark2_sent:\n",
    "        ax.axvline(snark2_sent[0][0], linestyle=\"--\", color=\"C1\")\n",
    "    if show:\n",
    "        plt.show()\n",
    "\n",
    "\n",
    "_, ax = plt.subplots(nrows=3, sharex=\"col\")\n",
    "plot1(beamsim.run(t=\"direct\"), ax[0])\n",
    "plot1(beamsim.run(t=\"gossip\"), ax[1])\n",
    "plot1(beamsim.run(t=\"grid\"), ax[2])\n",
    "plt.show()\n",
    "\n",
    "plot1(beamsim.run(t=\"direct\"))"
   ]
  },
  {
   "cell_type": "code",
   "execution_count": null,
   "id": "3ff71ebe",
   "metadata": {},
   "outputs": [],
   "source": [
    "def plot2(items):\n",
    "    metrics = beamsim.Metrics(items)\n",
    "\n",
    "    ax = plt.subplot()\n",
    "    for y, label in zip(metrics.bytes_sent_role_avg, [\"validator\", \"local\", \"global\"]):\n",
    "        ax.plot(range(metrics.t), y, label=label)\n",
    "    ax.legend()\n",
    "    plt.show()\n",
    "\n",
    "\n",
    "plot2(beamsim.run(t=\"direct\"))\n",
    "plot2(beamsim.run(t=\"grid\"))\n",
    "plot2(beamsim.run(t=\"gossip\"))"
   ]
  }
 ],
 "metadata": {
  "kernelspec": {
   "display_name": "venv",
   "language": "python",
   "name": "python3"
  },
  "language_info": {
   "codemirror_mode": {
    "name": "ipython",
    "version": 3
   },
   "file_extension": ".py",
   "mimetype": "text/x-python",
   "name": "python",
   "nbconvert_exporter": "python",
   "pygments_lexer": "ipython3",
   "version": "3.13.4"
  }
 },
 "nbformat": 4,
 "nbformat_minor": 5
}
